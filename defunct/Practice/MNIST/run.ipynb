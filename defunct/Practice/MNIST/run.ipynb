{
 "cells": [
  {
   "cell_type": "code",
   "execution_count": 22,
   "metadata": {},
   "outputs": [],
   "source": [
    "import torch\n",
    "import torch.nn as nn\n",
    "import torch.nn.functional as F\n",
    "import torch.optim as optim\n",
    "\n",
    "import torchvision\n",
    "import torchvision.transforms as transforms # Image Transforms and Augmentations\n",
    "from torchvision import datasets\n",
    "\n",
    "from torch.utils.data import Dataset\n"
   ]
  },
  {
   "cell_type": "markdown",
   "metadata": {},
   "source": [
    "Import the MNIST dataset from pytorch. This segment isn't mine, using it to handle the code."
   ]
  },
  {
   "cell_type": "code",
   "execution_count": 23,
   "metadata": {},
   "outputs": [
    {
     "data": {
      "text/plain": [
       "Dataset MNIST\n",
       "    Number of datapoints: 60000\n",
       "    Root location: ./\n",
       "    Split: Train"
      ]
     },
     "execution_count": 23,
     "metadata": {},
     "output_type": "execute_result"
    }
   ],
   "source": [
    "torchvision.datasets.MNIST('./',download = True) # Downloads the MNIST dataset from torchvision into the current directory"
   ]
  },
  {
   "cell_type": "code",
   "execution_count": 24,
   "metadata": {},
   "outputs": [],
   "source": [
    "class MNISTDataset(Dataset):\n",
    "    \"\"\"\n",
    "    MAP-style. __getitem__ and __len__ methods need to be implemented.\n",
    "    \"\"\"\n",
    "    def __init__(self, path, train): # train is a boolean\n",
    "        Transform = transforms.ToTensor()\n",
    "        data = datasets.MNIST(root=path, train = train, download = False, transform = Transform)\n",
    "        self.images = [None] * len(data) #Holds the image pixel array\n",
    "        self.labels = [None] * len(data) #Holds the number label\n",
    "        for i in range(len(data)):\n",
    "            self.images[i] = data[i][0]\n",
    "            self.labels[i] = data[i][1]\n",
    "\n",
    "    def __getitem__(self, index):\n",
    "        x = self.images[index].float()\n",
    "        x = torch.Tensor(x)\n",
    "        x = torch.flatten(x) # flatten the image from a 28 x 28 to a 784 1-dimensional tensor\n",
    "        return x\n",
    "\n",
    "    # returns the length of the dataset\n",
    "    def __len__(self):\n",
    "        return len(self.labels)"
   ]
  },
  {
   "cell_type": "code",
   "execution_count": 25,
   "metadata": {},
   "outputs": [
    {
     "name": "stdout",
     "output_type": "stream",
     "text": [
      "Train dataset length:  60000\n",
      "Test dataset length:  10000\n"
     ]
    }
   ],
   "source": [
    "# Formally make the datasets\n",
    "train_dataset = MNISTDataset('./', True)\n",
    "test_dataset = MNISTDataset('./', False)\n",
    "\n",
    "print(\"Train dataset length: \", len(train_dataset))\n",
    "print(\"Test dataset length: \", len(test_dataset))"
   ]
  },
  {
   "cell_type": "markdown",
   "metadata": {},
   "source": [
    "Train the Autoencoder Model"
   ]
  },
  {
   "cell_type": "code",
   "execution_count": 26,
   "metadata": {},
   "outputs": [],
   "source": [
    "class AutoEncoder(nn.Module):\n",
    "    def __init__(self, input_shape, latent_dim = 128):\n",
    "        super().__init__()\n",
    "\n",
    "        # 2 layers for the encoder\n",
    "        self.encoder_l1 = nn.Linear(in_features=input_shape, out_features=latent_dim)\n",
    "        self.encoder_l2 = nn.Linear(in_features=latent_dim, out_features=latent_dim)\n",
    "\n",
    "        # decoder\n",
    "        self.decoder_l1 = nn.Linear(in_features=latent_dim, out_features=latent_dim)\n",
    "        self.decoder_l2 = nn.Linear(in_features=latent_dim, out_features=input_shape)\n",
    "    \n",
    "    def forward(self, x):\n",
    "        '''\n",
    "        x is the input data\n",
    "        returns the reconstruction\n",
    "        '''\n",
    "        latent = self.run_encoder(x)\n",
    "        x_hat = self.run_decoder(latent)\n",
    "        return x_hat\n",
    "\n",
    "    def run_encoder(self, x):\n",
    "        output = F.relu(self.encoder_l1(x)) # relu adds non linearity\n",
    "        latent = F.relu(self.encoder_l2(output)) # results in the latent vector\n",
    "        return latent\n",
    "\n",
    "    def run_decoder(self, latent):\n",
    "        output = F.relu(self.decoder_l1(latent))\n",
    "        x_hat = F.relu(self.decoder_l2(output))\n",
    "        return x_hat"
   ]
  },
  {
   "cell_type": "code",
   "execution_count": 27,
   "metadata": {},
   "outputs": [],
   "source": [
    "# Gets the shape of an image from the dataset. '.shape' has a [0] to get the integer from the tensor object\n",
    "image_shape = train_dataset[0].shape[0]\n",
    "\n",
    "# Initialize the model\n",
    "model = AutoEncoder(input_shape = image_shape)"
   ]
  },
  {
   "cell_type": "code",
   "execution_count": 28,
   "metadata": {},
   "outputs": [
    {
     "data": {
      "text/plain": [
       "AutoEncoder(\n",
       "  (encoder_l1): Linear(in_features=784, out_features=128, bias=True)\n",
       "  (encoder_l2): Linear(in_features=128, out_features=128, bias=True)\n",
       "  (decoder_l1): Linear(in_features=128, out_features=128, bias=True)\n",
       "  (decoder_l2): Linear(in_features=128, out_features=784, bias=True)\n",
       ")"
      ]
     },
     "execution_count": 28,
     "metadata": {},
     "output_type": "execute_result"
    }
   ],
   "source": [
    "model.train() # Set to train() mode"
   ]
  },
  {
   "cell_type": "code",
   "execution_count": 29,
   "metadata": {},
   "outputs": [
    {
     "ename": "AssertionError",
     "evalue": "Torch not compiled with CUDA enabled",
     "output_type": "error",
     "traceback": [
      "\u001b[0;31m---------------------------------------------------------------------------\u001b[0m",
      "\u001b[0;31mAssertionError\u001b[0m                            Traceback (most recent call last)",
      "Input \u001b[0;32mIn [29]\u001b[0m, in \u001b[0;36m<cell line: 8>\u001b[0;34m()\u001b[0m\n\u001b[1;32m     10\u001b[0m \u001b[38;5;66;03m#Batch_features is each training batch. Here it's of the shape (128, 784).\u001b[39;00m\n\u001b[1;32m     11\u001b[0m \u001b[38;5;28;01mfor\u001b[39;00m batch_features \u001b[38;5;129;01min\u001b[39;00m train_loader:\n\u001b[0;32m---> 12\u001b[0m     batch_features \u001b[38;5;241m=\u001b[39m \u001b[43mbatch_features\u001b[49m\u001b[38;5;241;43m.\u001b[39;49m\u001b[43mcuda\u001b[49m\u001b[43m(\u001b[49m\u001b[43m)\u001b[49m\n\u001b[1;32m     14\u001b[0m     optimizer\u001b[38;5;241m.\u001b[39mzero_grad()\n\u001b[1;32m     16\u001b[0m     \u001b[38;5;66;03m# compute reconstructions\u001b[39;00m\n",
      "File \u001b[0;32m/Library/Frameworks/Python.framework/Versions/3.8/lib/python3.8/site-packages/torch/cuda/__init__.py:211\u001b[0m, in \u001b[0;36m_lazy_init\u001b[0;34m()\u001b[0m\n\u001b[1;32m    207\u001b[0m     \u001b[38;5;28;01mraise\u001b[39;00m \u001b[38;5;167;01mRuntimeError\u001b[39;00m(\n\u001b[1;32m    208\u001b[0m         \u001b[38;5;124m\"\u001b[39m\u001b[38;5;124mCannot re-initialize CUDA in forked subprocess. To use CUDA with \u001b[39m\u001b[38;5;124m\"\u001b[39m\n\u001b[1;32m    209\u001b[0m         \u001b[38;5;124m\"\u001b[39m\u001b[38;5;124mmultiprocessing, you must use the \u001b[39m\u001b[38;5;124m'\u001b[39m\u001b[38;5;124mspawn\u001b[39m\u001b[38;5;124m'\u001b[39m\u001b[38;5;124m start method\u001b[39m\u001b[38;5;124m\"\u001b[39m)\n\u001b[1;32m    210\u001b[0m \u001b[38;5;28;01mif\u001b[39;00m \u001b[38;5;129;01mnot\u001b[39;00m \u001b[38;5;28mhasattr\u001b[39m(torch\u001b[38;5;241m.\u001b[39m_C, \u001b[38;5;124m'\u001b[39m\u001b[38;5;124m_cuda_getDeviceCount\u001b[39m\u001b[38;5;124m'\u001b[39m):\n\u001b[0;32m--> 211\u001b[0m     \u001b[38;5;28;01mraise\u001b[39;00m \u001b[38;5;167;01mAssertionError\u001b[39;00m(\u001b[38;5;124m\"\u001b[39m\u001b[38;5;124mTorch not compiled with CUDA enabled\u001b[39m\u001b[38;5;124m\"\u001b[39m)\n\u001b[1;32m    212\u001b[0m \u001b[38;5;28;01mif\u001b[39;00m _cudart \u001b[38;5;129;01mis\u001b[39;00m \u001b[38;5;28;01mNone\u001b[39;00m:\n\u001b[1;32m    213\u001b[0m     \u001b[38;5;28;01mraise\u001b[39;00m \u001b[38;5;167;01mAssertionError\u001b[39;00m(\n\u001b[1;32m    214\u001b[0m         \u001b[38;5;124m\"\u001b[39m\u001b[38;5;124mlibcudart functions unavailable. It looks like you have a broken build?\u001b[39m\u001b[38;5;124m\"\u001b[39m)\n",
      "\u001b[0;31mAssertionError\u001b[0m: Torch not compiled with CUDA enabled"
     ]
    }
   ],
   "source": [
    "train_loader = torch.utils.data.DataLoader(train_dataset,\n",
    "                                            batch_size=128, #number of training samples to load in at a time\n",
    "                                            shuffle=True) # Shuffle the data beforehand\n",
    "mse = nn.MSELoss()\n",
    "optimizer = optim.Adam(model.parameters(), lr=1e-3)\n",
    "n_epochs = 100\n",
    "\n",
    "for epoch in range(n_epochs):\n",
    "    loss = 0\n",
    "    #Batch_features is each training batch. Here it's of the shape (128, 784).\n",
    "    for batch_features in train_loader:\n",
    "        batch_features = batch_features.cuda()\n",
    "\n",
    "        optimizer.zero_grad()\n",
    "\n",
    "        # compute reconstructions\n",
    "        outputs = model(batch_features)\n",
    "\n",
    "        # compute the reconstruction loss of the training data\n",
    "        train_loss = mse(outputs, batch_features)\n",
    "\n",
    "        #compute accumulated gradients\n",
    "        train_loss.backward()"
   ]
  }
 ],
 "metadata": {
  "interpreter": {
   "hash": "aee8b7b246df8f9039afb4144a1f6fd8d2ca17a180786b69acc140d282b71a49"
  },
  "kernelspec": {
   "display_name": "Python 3.8.0 64-bit",
   "language": "python",
   "name": "python3"
  },
  "language_info": {
   "codemirror_mode": {
    "name": "ipython",
    "version": 3
   },
   "file_extension": ".py",
   "mimetype": "text/x-python",
   "name": "python",
   "nbconvert_exporter": "python",
   "pygments_lexer": "ipython3",
   "version": "3.8.0"
  },
  "orig_nbformat": 4
 },
 "nbformat": 4,
 "nbformat_minor": 2
}
